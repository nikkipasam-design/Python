{
 "cells": [
  {
   "cell_type": "markdown",
   "id": "57368d3f-7caf-479d-a6a1-1f7d36057d8f",
   "metadata": {},
   "source": [
    "1- Ask the user to enter a number between 10 and 20 (inclusive). If they enter a number within this range, display the message “Thank you”, otherwise display the message “Incorrect answer”."
   ]
  },
  {
   "cell_type": "code",
   "execution_count": 3,
   "id": "f0bcd31c-9317-4beb-b3ed-0bfec30aab5e",
   "metadata": {},
   "outputs": [
    {
     "name": "stdin",
     "output_type": "stream",
     "text": [
      "Enter a number between 10 and 20 (inclusive) 45\n"
     ]
    },
    {
     "name": "stdout",
     "output_type": "stream",
     "text": [
      "Incorrect answer\n"
     ]
    }
   ],
   "source": [
    "number = input(\"Enter a number between 10 and 20 (inclusive)\")\n",
    "if int(number) >= 10 and int(number) <=20:\n",
    "    print(\"Thank you\")\n",
    "else:\n",
    "    print(\"Incorrect answer\")"
   ]
  },
  {
   "cell_type": "markdown",
   "id": "16e16212-4c28-48d5-b5d9-759681aef084",
   "metadata": {},
   "source": [
    "2- In this exercise, you will create a program that reads a letter of the alphabet from the user. According to the answer:\n",
    "\n",
    "If the user enters a, e, i, o, u, then your program should display a message indicating that the entered letter is a vowel.\n",
    "\n",
    "If the user enters y, then your program should display a message indicating that y is sometimes a vowel and sometimes a consonant.\n",
    "\n",
    "Otherwise, your program should display a message indicating that the letter is a consonant."
   ]
  },
  {
   "cell_type": "code",
   "execution_count": 6,
   "id": "a71f58df-6069-4c3b-a719-9e3b46929636",
   "metadata": {},
   "outputs": [
    {
     "name": "stdin",
     "output_type": "stream",
     "text": [
      "Enter a letter of the alphabet:  C\n"
     ]
    },
    {
     "name": "stdout",
     "output_type": "stream",
     "text": [
      "The entered letter is a consonant.\n"
     ]
    }
   ],
   "source": [
    "letter = input(\"Enter a letter of the alphabet: \")\n",
    "l = letter.lower()\n",
    "if l in ['a', 'e', 'i', 'o', 'u']:\n",
    "    print(\"The entered letter is a vowel.\")\n",
    "elif l == 'y':\n",
    "    print('y is sometimes a vowel and sometimes a consonant.')\n",
    "else:\n",
    "    print(\"The entered letter is a consonant.\")"
   ]
  }
 ],
 "metadata": {
  "kernelspec": {
   "display_name": "Python 3 (ipykernel)",
   "language": "python",
   "name": "python3"
  },
  "language_info": {
   "codemirror_mode": {
    "name": "ipython",
    "version": 3
   },
   "file_extension": ".py",
   "mimetype": "text/x-python",
   "name": "python",
   "nbconvert_exporter": "python",
   "pygments_lexer": "ipython3",
   "version": "3.12.4"
  }
 },
 "nbformat": 4,
 "nbformat_minor": 5
}

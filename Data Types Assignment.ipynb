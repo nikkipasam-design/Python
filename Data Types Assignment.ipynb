{
 "cells": [
  {
   "cell_type": "markdown",
   "id": "5824904d-238b-49e8-8969-69e1fc789509",
   "metadata": {},
   "source": [
    "***Data Types Assignment***"
   ]
  },
  {
   "cell_type": "markdown",
   "id": "4c4a93c6-d63f-4fd6-983e-a87c3547338c",
   "metadata": {},
   "source": [
    "1- Suppose you invested in Bitcoin at the end of 2020 when Bitcoin gained a lot of value. What would be your money at the end of a week if you had invested $1000 with an average daily increase of 12% ? You can solve the problem using Python."
   ]
  },
  {
   "cell_type": "code",
   "execution_count": 17,
   "id": "fd408c93-7108-41cc-b2a3-338ec4c7f25b",
   "metadata": {},
   "outputs": [
    {
     "name": "stdout",
     "output_type": "stream",
     "text": [
      "2210.6814074060812\n"
     ]
    }
   ],
   "source": [
    "capital = 1000\n",
    "period = 7\n",
    "daily_increase = 0.12\n",
    "result = capital * (1 + daily_increase) ** period\n",
    "print(result)"
   ]
  },
  {
   "cell_type": "markdown",
   "id": "25400ff4-04f8-44ca-9d43-20bacc9aea81",
   "metadata": {},
   "source": [
    "2- Print the text in quotes with Python. However, you must get the numbers from variables using .format() notation. Because the text is long, you might consider writing in two lines:\n",
    "\n",
    "\"When we buy bitcoin with 1000 USD at the beginning of the week, we would earn 1210.68 USD at the end of the week, with an average gain of 12\\%.\""
   ]
  },
  {
   "cell_type": "code",
   "execution_count": 28,
   "id": "30f12c62-1326-4906-b18d-f80c6a8470aa",
   "metadata": {},
   "outputs": [
    {
     "name": "stdout",
     "output_type": "stream",
     "text": [
      " \"When we buy bitcoin with 1000 USD at the beginning of the week, we would earn\n",
      "1210.68 USD at the end of the week, with an average gain of 12%.\" \n"
     ]
    }
   ],
   "source": [
    "initial = 1000\n",
    "new = 1210.68\n",
    "growth = 12\n",
    "print(f''' \"When we buy bitcoin with {initial} USD at the beginning of the week, we would earn\n",
    "{new} USD at the end of the week, with an average gain of {growth}%.\" ''')"
   ]
  },
  {
   "cell_type": "markdown",
   "id": "ed0cda87-7e2c-4b0f-b683-bbb46170bc2f",
   "metadata": {},
   "source": [
    "3- Get the temperature in Fahrenheit from user and write a code to convert it to Celcius. For conversion, you can use this formula: C = (5/9) * (F - 32)\n",
    "\n",
    "Enter the temperature in Fahrenheit:\n",
    "\n",
    "user --> 26\n",
    "\n",
    "output --> Temperature (C) : -3.33"
   ]
  },
  {
   "cell_type": "code",
   "execution_count": 22,
   "id": "ad3b4ce8-b524-4e39-99b2-d13b2c958ffb",
   "metadata": {},
   "outputs": [
    {
     "name": "stdin",
     "output_type": "stream",
     "text": [
      "Enter the temperature in Fahrenheit:  26\n"
     ]
    },
    {
     "name": "stdout",
     "output_type": "stream",
     "text": [
      "Temperature (C) : -3.33\n"
     ]
    }
   ],
   "source": [
    "fahrenheit = input(\"Enter the temperature in Fahrenheit: \")\n",
    "celcius = 5/9 * (int(fahrenheit) - 32)\n",
    "print(f\"Temperature (C) : {round(celcius, 2)}\")"
   ]
  },
  {
   "cell_type": "markdown",
   "id": "0399d160-e72b-4b65-83f8-3999c4bb555f",
   "metadata": {},
   "source": [
    "4- Get a three digit number the from user and calculate the sum of the digits in the integer.\n",
    "\n",
    "user --> 365\n",
    "\n",
    "output --> \"The sum of digits in the number is 14"
   ]
  },
  {
   "cell_type": "code",
   "execution_count": 23,
   "id": "1d9a6dd9-56f4-4491-919e-451db22ec3a2",
   "metadata": {},
   "outputs": [
    {
     "name": "stdin",
     "output_type": "stream",
     "text": [
      "Enter a three digit number:  365\n"
     ]
    },
    {
     "name": "stdout",
     "output_type": "stream",
     "text": [
      "The sum of digits in the number is 14\n"
     ]
    }
   ],
   "source": [
    "number = input(\"Enter a three digit number: \")\n",
    "sum = int(number[0]) + int(number[1]) + int(number[2])\n",
    "print(f\"The sum of digits in the number is {sum}\")"
   ]
  },
  {
   "cell_type": "markdown",
   "id": "1dc66441-57a5-4c7d-bc09-ef8190c36cde",
   "metadata": {},
   "source": [
    "5- Write some code to calculate the hypotenuse of a right angled triangle. Get the side lengths from the user.\n",
    "\n",
    "user --> first side lenth : 6\n",
    "\n",
    "user --> first side lenth : 8\n",
    "\n",
    "output --> \"The length of the hypotenuse is 10"
   ]
  },
  {
   "cell_type": "code",
   "execution_count": 26,
   "id": "f0cb7bd1-bac4-4766-b6ff-c3952870e593",
   "metadata": {},
   "outputs": [
    {
     "name": "stdin",
     "output_type": "stream",
     "text": [
      "Enter the first side length:  6\n",
      "Enter a second side length:  8\n"
     ]
    },
    {
     "name": "stdout",
     "output_type": "stream",
     "text": [
      "The length of the hypotenuse is 10\n"
     ]
    }
   ],
   "source": [
    "from math import sqrt\n",
    "side1 = input(\"Enter the first side length: \")\n",
    "side2 = input(\"Enter a second side length: \")\n",
    "output = sqrt(int(side1)**2 + int(side2)**2)\n",
    "print(f\"The length of the hypotenuse is {int(output)}\")"
   ]
  }
 ],
 "metadata": {
  "kernelspec": {
   "display_name": "Python 3 (ipykernel)",
   "language": "python",
   "name": "python3"
  },
  "language_info": {
   "codemirror_mode": {
    "name": "ipython",
    "version": 3
   },
   "file_extension": ".py",
   "mimetype": "text/x-python",
   "name": "python",
   "nbconvert_exporter": "python",
   "pygments_lexer": "ipython3",
   "version": "3.12.4"
  }
 },
 "nbformat": 4,
 "nbformat_minor": 5
}

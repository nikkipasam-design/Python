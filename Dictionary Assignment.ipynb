{
 "cells": [
  {
   "cell_type": "markdown",
   "id": "9a0be1d8-7a77-4783-8fb9-2b07f2fb2cbb",
   "metadata": {},
   "source": [
    "1- Create a dictionary with 7 days. Ask the user to choose 2 different days by listing the (e.g. \"12\" for Monday and Tuesday). Delete the user-selected days from the dictionary and print the remaining 5 days on the screen."
   ]
  },
  {
   "cell_type": "code",
   "execution_count": 1,
   "id": "6c0e9844-395e-4521-a319-a5609e29984e",
   "metadata": {},
   "outputs": [
    {
     "name": "stdin",
     "output_type": "stream",
     "text": [
      "Enter 2 numbers for the 2 corresponding days of the week:  23\n"
     ]
    },
    {
     "name": "stdout",
     "output_type": "stream",
     "text": [
      "Tuesday & Wednesday\n",
      "dict_values(['Monday', 'Thursday', 'Friday', 'Saturday', 'Sunday'])\n"
     ]
    }
   ],
   "source": [
    "dict = {1: \"Monday\", 2: \"Tuesday\", 3: \"Wednesday\", 4: \"Thursday\", 5: \"Friday\", 6: \"Saturday\", 7: \"Sunday\"}\n",
    "index = input(\"Enter 2 numbers for the 2 corresponding days of the week: \")\n",
    "index1 = int(index[0])\n",
    "index2 = int(index[1])\n",
    "print(dict[index1], \"&\", dict[index2])\n",
    "dict.pop(index1)\n",
    "dict.pop(index2)\n",
    "print(dict.values())"
   ]
  },
  {
   "cell_type": "markdown",
   "id": "e0e42e56-1035-4a89-b512-cd603e2822e0",
   "metadata": {},
   "source": [
    "2- Create a dictionary with the following personnel. Use names as keys.\n",
    "(Michael (age: 20)\n",
    "(Linda (age: 30)"
   ]
  },
  {
   "cell_type": "code",
   "execution_count": 9,
   "id": "b5dedca4-a287-4218-ab8b-44aee7b5b523",
   "metadata": {},
   "outputs": [
    {
     "name": "stdout",
     "output_type": "stream",
     "text": [
      "{'Michael': {'age': 20}, 'Linda': {'age': 30}}\n"
     ]
    }
   ],
   "source": [
    "dict =  {'Michael': {'age': 20}, 'Linda': {'age': 30}}\n",
    "print(dict)"
   ]
  },
  {
   "cell_type": "markdown",
   "id": "61e9e29f-1c36-4d42-a27e-e49fa1993c5b",
   "metadata": {},
   "source": [
    "3- Add child information to Michael and Linda. Michael has two children (Karen (age : 12, female) and Greg (age : 7, male) and Linda has one child (Susan (age: 6, female))"
   ]
  },
  {
   "cell_type": "code",
   "execution_count": 10,
   "id": "1e6e91d8-b070-4d14-aa41-ae9c2376057e",
   "metadata": {},
   "outputs": [
    {
     "name": "stdout",
     "output_type": "stream",
     "text": [
      "{'Michael': {'age': 20, 'Karen': [12, 'female'], 'Greg': [7, 'male']}, 'Linda': {'age': 30, 'Susan': [6, 'female']}}\n"
     ]
    }
   ],
   "source": [
    "dict['Michael'].update({'Karen': [12, 'female'], 'Greg': [7, 'male']})\n",
    "dict['Linda'].update({'Susan': [6, 'female']})\n",
    "print(dict)"
   ]
  },
  {
   "cell_type": "markdown",
   "id": "1d58f066-9772-465b-a32b-43776ac3003f",
   "metadata": {},
   "source": [
    "4- Print the names of Michael's children in a list."
   ]
  },
  {
   "cell_type": "code",
   "execution_count": 17,
   "id": "ae4b4e5d-bc22-4d93-aaf8-df5bf02c7b6f",
   "metadata": {},
   "outputs": [
    {
     "name": "stdout",
     "output_type": "stream",
     "text": [
      "['Karen', 'Greg']\n"
     ]
    }
   ],
   "source": [
    "keys = list(dict['Michael'].keys())\n",
    "keys.pop(0)\n",
    "print(keys)"
   ]
  }
 ],
 "metadata": {
  "kernelspec": {
   "display_name": "Python 3 (ipykernel)",
   "language": "python",
   "name": "python3"
  },
  "language_info": {
   "codemirror_mode": {
    "name": "ipython",
    "version": 3
   },
   "file_extension": ".py",
   "mimetype": "text/x-python",
   "name": "python",
   "nbconvert_exporter": "python",
   "pygments_lexer": "ipython3",
   "version": "3.12.4"
  }
 },
 "nbformat": 4,
 "nbformat_minor": 5
}

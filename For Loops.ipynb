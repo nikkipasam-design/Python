{
 "cells": [
  {
   "cell_type": "markdown",
   "id": "0fb6fad1-9b40-4275-b54b-2ecaab5349c9",
   "metadata": {},
   "source": [
    "1. Do the following to create a program that simulates how websites ensure that everyone has a unique username.\n",
    "\n",
    "􏰀* Make a list of five or more usernames called current_users.\n",
    "\n",
    "􏰀* Make another list of five usernames called new_users. Make sure one or two of the new usernames are also in the current_users list.\n",
    "\n",
    "􏰀* Loop through the new_users list to see if each new username has already been used. If it has, print a message that the person will need to enter a new username. If a username has not been used, print a message saying that the username is available.\n",
    "\n",
    "􏰀* Make sure your comparison is case insensitive. If 'John' has been used, 'JOHN' should not be accepted."
   ]
  },
  {
   "cell_type": "code",
   "execution_count": 1,
   "id": "a933afeb-5c69-4f05-ad00-3b0705edd780",
   "metadata": {},
   "outputs": [
    {
     "name": "stdout",
     "output_type": "stream",
     "text": [
      "Username is available.\n",
      "Username is available.\n",
      "Already in use. Enter a new username.\n",
      "Already in use. Enter a new username.\n",
      "Username is available.\n"
     ]
    }
   ],
   "source": [
    "current_users = ['Alex', 'AVA', 'Bridget', 'Barney', 'Cinder']\n",
    "new_users = ['Denise', 'Emmett', 'Ava', 'CINDER', 'Nancy']\n",
    "cu = []\n",
    "nu = []\n",
    "\n",
    "for i in current_users:\n",
    "    cu.append(i.lower())\n",
    "\n",
    "for i in new_users:\n",
    "    nu.append(i.lower())\n",
    "\n",
    "for i in nu:\n",
    "    if i in cu:\n",
    "        print(\"Already in use. Enter a new username.\")\n",
    "    else:\n",
    "        print(\"Username is available.\")"
   ]
  },
  {
   "cell_type": "markdown",
   "id": "b416f944-c0c8-4fc7-a1f3-6a3ba049421a",
   "metadata": {},
   "source": [
    "2. Color probability\n",
    "\n",
    "You're playing a game with a friend involving a bag of marbles. In the bag are ten marbles:\n",
    "\n",
    "1 smooth red marble\n",
    "\n",
    "4 bumpy red marbles\n",
    "\n",
    "2 bumpy yellow marbles\n",
    "\n",
    "1 smooth yellow marble\n",
    "\n",
    "1 bumpy green marble\n",
    "\n",
    "1 smooth green marble\n",
    "\n",
    "You can see that the probability of picking a smooth red marble from the bag is 1 / 10 or 0.10 and the probability of picking a bumpy yellow marble is 2 / 10 or 0.20.\n",
    "\n",
    "The game works like this: your friend puts her hand in the bag, chooses a marble (without looking at it) and tells you whether it's bumpy or smooth. Then you have to guess which color it is before she pulls it out and reveals whether you're correct or not.\n",
    "\n",
    "You know that the information about whether the marble is bumpy or smooth changes the probability of what color it is, and you want some help with your guesses.\n",
    "\n",
    "Write a function color_probability that takes two arguments: a color ('red', 'yellow', or 'green') and a texture ('bumpy' or 'smooth') and returns the probability of drawing that combination as a decimal fraction accurate to two places.\n",
    "\n",
    "The probability should be a string and should discard any digits after the 100ths place. For example, 2 / 3 or 0.6666666666666666 would become the string '0.66'. Note this is different from rounding.\n",
    "\n",
    "As a complete example, color_probability('red', 'bumpy') should return the string '0.57'."
   ]
  },
  {
   "cell_type": "code",
   "execution_count": 8,
   "id": "91edcdf7-17cb-4607-a364-22332df68d6f",
   "metadata": {},
   "outputs": [
    {
     "name": "stdout",
     "output_type": "stream",
     "text": [
      "0.57\n",
      "0.33\n"
     ]
    }
   ],
   "source": [
    "def color_probability(color, texture):\n",
    "    dict = {'bumpy': {'red': 4, 'yellow': 2, 'green': 1, 'total': 7} , 'smooth': {'red': 1, 'yellow': 1, 'green': 1, 'total': 3}}\n",
    "    prob = dict[texture][color] / dict[texture]['total']\n",
    "    return str(prob)[:4]\n",
    "\n",
    "print(color_probability('red', 'bumpy'))\n",
    "print(color_probability('green', 'smooth'))"
   ]
  },
  {
   "cell_type": "markdown",
   "id": "ff3826f0-34f9-4cf9-9a74-a4044812244b",
   "metadata": {},
   "source": [
    "3. Write an if-elif-else chain that determines a person’s stage of life.\n",
    "\n",
    "Set a value for the variable age, and then:\n",
    "\n",
    "􏰀* If the person is less than 2 years old, print a message that the person is a baby.\n",
    "\n",
    "*􏰀 If the person is at least 2 years old but less than 4, print a message that the person is a toddler.\n",
    "\n",
    "*􏰀 If the person is at least 4 years old but less than 13, print a message that the person is a kid.\n",
    "\n",
    "*􏰀 If the person is at least 13 years old but less than 20, print a message that the person is a teenager.\n",
    "\n",
    "*􏰀 If the person is at least 20 years old but less than 65, print a message that the person is an adult.\n",
    "\n",
    "*􏰀 If the person is age 65 or older, print a message that the person is an elder."
   ]
  },
  {
   "cell_type": "code",
   "execution_count": 2,
   "id": "cffccf31-2c63-407a-a012-1e6d28fb69b2",
   "metadata": {},
   "outputs": [
    {
     "name": "stdout",
     "output_type": "stream",
     "text": [
      "Adult\n"
     ]
    }
   ],
   "source": [
    "age = 41\n",
    "if age < 2:\n",
    "    print(\"Baby\")\n",
    "elif age >=2 and age < 4:\n",
    "    print(\"Toddler\")\n",
    "elif age >= 4 and age < 13:\n",
    "    print('Kid')\n",
    "elif age >= 13 and age < 20:\n",
    "    print('Teenager')\n",
    "elif age >= 20 and age < 65:\n",
    "    print('Adult')\n",
    "else:\n",
    "    print('Elder')"
   ]
  }
 ],
 "metadata": {
  "kernelspec": {
   "display_name": "Python 3 (ipykernel)",
   "language": "python",
   "name": "python3"
  },
  "language_info": {
   "codemirror_mode": {
    "name": "ipython",
    "version": 3
   },
   "file_extension": ".py",
   "mimetype": "text/x-python",
   "name": "python",
   "nbconvert_exporter": "python",
   "pygments_lexer": "ipython3",
   "version": "3.12.4"
  }
 },
 "nbformat": 4,
 "nbformat_minor": 5
}

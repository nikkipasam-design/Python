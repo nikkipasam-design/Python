{
 "cells": [
  {
   "cell_type": "markdown",
   "id": "5c2943a7-49c2-4125-ad79-70cdf46bfabd",
   "metadata": {},
   "source": [
    "1- Write a code to compute the sum of the two lowest numbers and the two highest numbers in the following list.\n",
    "\n",
    "my_list = [34, 56, 76, 45, 2, 12, 67, 98, 37, 54, 66]"
   ]
  },
  {
   "cell_type": "code",
   "execution_count": 7,
   "id": "cce56b16-3ee4-4b5f-986b-c4d7a639a4e8",
   "metadata": {},
   "outputs": [
    {
     "name": "stdout",
     "output_type": "stream",
     "text": [
      "188\n"
     ]
    }
   ],
   "source": [
    "my_list = [34, 56, 76, 45, 2, 12, 67, 98, 37, 54, 66]\n",
    "my_list.sort()\n",
    "sum = my_list[0] + my_list[1] + my_list[-1] + my_list[-2]\n",
    "print(sum)"
   ]
  },
  {
   "cell_type": "markdown",
   "id": "d1d29772-daac-4028-8599-4e667d8ca46f",
   "metadata": {},
   "source": [
    "2- The following two lists contain student names and scores. Write a code that gets the name from the user and prints the score of that student.\n",
    "\n",
    "names = [\"David\", \"Michael\", \"John\", \"James\", \"Greg\", \"Mark\", \"William\", \"Richard\", \"Thomas\", \"Steven\",\n",
    "\n",
    "   \"Mary\", \"Susan\", \"Maria\", \"Karen\", \"Lisa\", \"Linda\", \"Donna\", \"Patricia\", \"Debra\", \"Eric\"]\n",
    "scores = [99, 87, 78, 86, 68, 94, 76, 97, 56, 98, 76, 87, 79, 90, 73, 93, 82, 69, 97, 98]"
   ]
  },
  {
   "cell_type": "code",
   "execution_count": 1,
   "id": "92da7785-0c0b-4b13-899b-9b721f0d1c58",
   "metadata": {},
   "outputs": [
    {
     "name": "stdin",
     "output_type": "stream",
     "text": [
      "Enter the name of the student whose score you want to view:  Mark\n"
     ]
    },
    {
     "name": "stdout",
     "output_type": "stream",
     "text": [
      "94\n"
     ]
    }
   ],
   "source": [
    "names = [\"David\", \"Michael\", \"John\", \"James\", \"Greg\", \"Mark\", \"William\", \"Richard\", \"Thomas\", \"Steven\", \"Mary\", \"Susan\", \"Maria\", \"Karen\", \"Lisa\", \"Linda\", \"Donna\", \"Patricia\", \"Debra\", \"Eric\"]\n",
    "scores = [99, 87, 78, 86, 68, 94, 76, 97, 56, 98, 76, 87, 79, 90, 73, 93, 82, 69, 97, 98]\n",
    "name = input(\"Enter the name of the student whose score you want to view: \")\n",
    "index = names.index(name)\n",
    "print(scores[index])"
   ]
  },
  {
   "cell_type": "markdown",
   "id": "e2b32a73-d4b4-491f-94cc-b56625029596",
   "metadata": {},
   "source": [
    "3- By using the two lists above, what is the maximum score and how many students got that score?"
   ]
  },
  {
   "cell_type": "code",
   "execution_count": 4,
   "id": "d21eaeb6-b1bf-4559-b304-a412993d7d1b",
   "metadata": {},
   "outputs": [
    {
     "name": "stdout",
     "output_type": "stream",
     "text": [
      "Max score: 99\n",
      "Students: 1\n"
     ]
    }
   ],
   "source": [
    "scores.sort(reverse = True)\n",
    "max_score = scores[0]\n",
    "print(f\"Max score: {max_score}\")\n",
    "print(f\"Students: {scores.count(max_score)}\")"
   ]
  }
 ],
 "metadata": {
  "kernelspec": {
   "display_name": "Python 3 (ipykernel)",
   "language": "python",
   "name": "python3"
  },
  "language_info": {
   "codemirror_mode": {
    "name": "ipython",
    "version": 3
   },
   "file_extension": ".py",
   "mimetype": "text/x-python",
   "name": "python",
   "nbconvert_exporter": "python",
   "pygments_lexer": "ipython3",
   "version": "3.12.4"
  }
 },
 "nbformat": 4,
 "nbformat_minor": 5
}

{
 "cells": [
  {
   "cell_type": "markdown",
   "id": "0fd83242-379b-4418-83db-560218c37d7c",
   "metadata": {},
   "source": [
    "***String Assignment***"
   ]
  },
  {
   "cell_type": "markdown",
   "id": "b4169fa5-f1be-4dd8-83b4-7da06da2ec07",
   "metadata": {},
   "source": [
    "1. Ask the user to enter their first name and surname in lower case. Change the case to title case and join them together. Display the finished result."
   ]
  },
  {
   "cell_type": "code",
   "execution_count": null,
   "id": "5aa15389-aaec-4b01-81c4-6afc13552bf7",
   "metadata": {},
   "outputs": [],
   "source": [
    "first = input(\"Enter your first name: \")\n",
    "surname = input(\"Enter your surname: \")\n",
    "full_name = f\"{first} {surname}\".title()\n",
    "print(f\"Result: {full_name}\")"
   ]
  },
  {
   "cell_type": "markdown",
   "id": "76cd3acf-4778-437c-8f63-5500882dc790",
   "metadata": {},
   "source": [
    "2. Ask the user to type in the first line of a poem Raven by Edgar Allen Poe and display the length of the string. Ask for a starting number and an ending number and then display just that section of the text (remember Python starts counting from 0 and not 1). "
   ]
  },
  {
   "cell_type": "code",
   "execution_count": null,
   "id": "b43e38a1-2c38-422d-b229-2a9917617ba9",
   "metadata": {},
   "outputs": [],
   "source": [
    "raven = \"\"\"Deep into that darkness peering,\n",
    "\n",
    "Long I stood there, wondering, fearing,\n",
    "\n",
    "Doubting, dreaming dreams no mortals\n",
    "\n",
    "Ever dared to dream before;\n",
    "\n",
    "But the silence was unbroken,\n",
    "\n",
    "And the stillness gave no token,\n",
    "\n",
    "And the only word there spoken\n",
    "\n",
    "Was the whispered word, \"Lenore!\"\n",
    "\n",
    "This I whispered, and an echo\n",
    "\n",
    "Murmured back the word, \"Lenore!\"\n",
    "\n",
    "Merely this, and nothing more.\"\"\"\n",
    "\n",
    "line = input(\"Type in the first line of a poem Raven by Edgar Allen Poe: \")\n",
    "print(f\"Length of the string: {len(line)}\")\n",
    "start = input(\"Enter a starting number: \")\n",
    "end = input(\"Enter an ending number: \")\n",
    "print(raven[int(start)-1: int(end)])"
   ]
  },
  {
   "cell_type": "markdown",
   "id": "daa5533f-97bb-4c72-a6b9-a263d2b3d562",
   "metadata": {},
   "source": [
    "3. Removes extra characters from the start and end of a string and explain why you need to remove white spaces while exploring text."
   ]
  },
  {
   "cell_type": "code",
   "execution_count": null,
   "id": "3c3b4080-5d43-4a5f-b383-a3451b0c6e59",
   "metadata": {},
   "outputs": [],
   "source": [
    "string = input(\"Enter a string: \")\n",
    "print(string.strip())\n",
    "\n",
    "#We need to remove white spaces while exploring text because the spaces are also treated as characters and can affect the length and indexing of the string."
   ]
  }
 ],
 "metadata": {
  "kernelspec": {
   "display_name": "Python 3 (ipykernel)",
   "language": "python",
   "name": "python3"
  },
  "language_info": {
   "codemirror_mode": {
    "name": "ipython",
    "version": 3
   },
   "file_extension": ".py",
   "mimetype": "text/x-python",
   "name": "python",
   "nbconvert_exporter": "python",
   "pygments_lexer": "ipython3",
   "version": "3.12.4"
  }
 },
 "nbformat": 4,
 "nbformat_minor": 5
}
